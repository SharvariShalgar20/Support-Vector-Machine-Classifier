{
 "cells": [
  {
   "cell_type": "code",
   "execution_count": 2,
   "id": "fee991a6",
   "metadata": {},
   "outputs": [],
   "source": [
    "import numpy as np"
   ]
  },
  {
   "cell_type": "markdown",
   "id": "ad9d844b",
   "metadata": {},
   "source": [
    "Support vector machine Classifier"
   ]
  },
  {
   "cell_type": "code",
   "execution_count": 3,
   "id": "37a13182",
   "metadata": {},
   "outputs": [],
   "source": [
    "class SVM_Classifier:\n",
    "\n",
    "  #Initializing the hyperparameter\n",
    "  def __init__(self,learning_rate, no_of_iteration, lambda_parameter):\n",
    "    self.learning_rate = learning_rate\n",
    "    self.no_of_iteration = no_of_iteration\n",
    "    self.lambda_parameter = lambda_parameter\n",
    "\n",
    "\n",
    "  #fitting the dataset to SVM Classifier\n",
    "  def fit(self, X, y):\n",
    "    #m is total number of datapoints(number of rows)\n",
    "    #n is total number of feature(number of column)\n",
    "    self.m,self.n = X.shape\n",
    "\n",
    "    #initiating the weight and bias value\n",
    "    self.w = np.zeros(self.n)        #w will be a array where total elements are the input columns are initial they are zeros\n",
    "\n",
    "    self.b = 0\n",
    "    self.X = X\n",
    "    self.y = y\n",
    "\n",
    "    #implementing gradient descent algorithm for optimization\n",
    "    for i in range(self.no_of_iteration):\n",
    "      self.update_weights()\n",
    "\n",
    "\n",
    "\n",
    "  #function for updating the weight and bias value\n",
    "  def update_weights(self):\n",
    "    #label encoding\n",
    "    y_label = np.where(self.y <= 0, -1, 1)   #this mean if the outcome is 0 then convert it to -1 otherwise leave 1 as it is\n",
    "\n",
    "    #Gradient(dw, db)\n",
    "    for index, x_i in enumerate(self.X):\n",
    "      #x_i are the all the values of X(features) correspondence to index\n",
    "      condition = y_label[index] * (np.dot(x_i, self.w) - self.b) >= 1\n",
    "\n",
    "      if(condition == True):\n",
    "        dw = 2 * self.lambda_parameter * self.w\n",
    "        db = 0\n",
    "\n",
    "      else:\n",
    "        dw = 2 * self.lambda_parameter * self.w - np.dot(x_i, y_label[index])\n",
    "        db = y_label[index]\n",
    "\n",
    "      self.w = self.w - self.learning_rate * dw\n",
    "      self.b = self.b - self.learning_rate * db\n",
    "\n",
    "\n",
    "\n",
    "  #predict the label for a given input value\n",
    "  def predict(self, X):\n",
    "    \n",
    "    output = np.dot(X, self.w) - self.b\n",
    "    predicted_labels = np.sign(output)  #(yi-cap)\n",
    "\n",
    "    #converting all -1 to zero back again\n",
    "    y_cap = np.where(predicted_labels <= -1, 0, 1)\n",
    "\n",
    "    return y_cap\n"
   ]
  }
 ],
 "metadata": {
  "kernelspec": {
   "display_name": "venv",
   "language": "python",
   "name": "python3"
  },
  "language_info": {
   "codemirror_mode": {
    "name": "ipython",
    "version": 3
   },
   "file_extension": ".py",
   "mimetype": "text/x-python",
   "name": "python",
   "nbconvert_exporter": "python",
   "pygments_lexer": "ipython3",
   "version": "3.13.1"
  }
 },
 "nbformat": 4,
 "nbformat_minor": 5
}
