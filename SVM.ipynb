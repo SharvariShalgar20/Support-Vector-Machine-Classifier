{
 "cells": [
  {
   "cell_type": "code",
   "execution_count": 1,
   "id": "fee991a6",
   "metadata": {},
   "outputs": [],
   "source": [
    "import numpy as np"
   ]
  },
  {
   "cell_type": "markdown",
   "id": "ad9d844b",
   "metadata": {},
   "source": [
    "Support vector machine Classifier"
   ]
  },
  {
   "cell_type": "code",
   "execution_count": null,
   "id": "37a13182",
   "metadata": {},
   "outputs": [],
   "source": [
    "class SVM_Classifier:\n",
    "  def __init__(self):\n",
    "    pass\n",
    "\n",
    "  def fit():\n",
    "    pass\n",
    "\n",
    "  def update_weights():\n",
    "    pass\n",
    "\n",
    "  def predict():\n",
    "    pass"
   ]
  }
 ],
 "metadata": {
  "kernelspec": {
   "display_name": "venv",
   "language": "python",
   "name": "python3"
  },
  "language_info": {
   "codemirror_mode": {
    "name": "ipython",
    "version": 3
   },
   "file_extension": ".py",
   "mimetype": "text/x-python",
   "name": "python",
   "nbconvert_exporter": "python",
   "pygments_lexer": "ipython3",
   "version": "3.13.1"
  }
 },
 "nbformat": 4,
 "nbformat_minor": 5
}
